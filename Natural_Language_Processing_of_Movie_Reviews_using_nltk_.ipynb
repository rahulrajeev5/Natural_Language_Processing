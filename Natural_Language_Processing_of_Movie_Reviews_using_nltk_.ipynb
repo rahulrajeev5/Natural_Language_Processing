{
  "nbformat": 4,
  "nbformat_minor": 0,
  "metadata": {
    "anaconda-cloud": {},
    "kernelspec": {
      "display_name": "Python 3",
      "language": "python",
      "name": "python3"
    },
    "language_info": {
      "codemirror_mode": {
        "name": "ipython",
        "version": 3
      },
      "file_extension": ".py",
      "mimetype": "text/x-python",
      "name": "python",
      "nbconvert_exporter": "python",
      "pygments_lexer": "ipython3",
      "version": "3.6.0"
    },
    "colab": {
      "name": "Natural Language Processing of Movie Reviews using nltk .ipynb",
      "provenance": []
    }
  },
  "cells": [
    {
      "cell_type": "markdown",
      "metadata": {
        "id": "NISxMbG15m65",
        "colab_type": "text"
      },
      "source": [
        "#Natural Language Processing  for Movie Reviews Dataset\n"
      ]
    },
    {
      "cell_type": "code",
      "metadata": {
        "id": "W_mBDMt25m6_",
        "colab_type": "code",
        "colab": {}
      },
      "source": [
        "import nltk"
      ],
      "execution_count": 1,
      "outputs": []
    },
    {
      "cell_type": "code",
      "metadata": {
        "id": "4S6YdQNK5m7I",
        "colab_type": "code",
        "colab": {
          "base_uri": "https://localhost:8080/",
          "height": 68
        },
        "outputId": "a8c54da7-6d5c-430a-8921-07fd07aa1207"
      },
      "source": [
        "nltk.download(\"movie_reviews\")"
      ],
      "execution_count": 2,
      "outputs": [
        {
          "output_type": "stream",
          "text": [
            "[nltk_data] Downloading package movie_reviews to /root/nltk_data...\n",
            "[nltk_data]   Unzipping corpora/movie_reviews.zip.\n"
          ],
          "name": "stdout"
        },
        {
          "output_type": "execute_result",
          "data": {
            "text/plain": [
              "True"
            ]
          },
          "metadata": {
            "tags": []
          },
          "execution_count": 2
        }
      ]
    },
    {
      "cell_type": "code",
      "metadata": {
        "id": "rtEMagZj5m7U",
        "colab_type": "code",
        "colab": {}
      },
      "source": [
        "from nltk.corpus import movie_reviews"
      ],
      "execution_count": 4,
      "outputs": []
    },
    {
      "cell_type": "markdown",
      "metadata": {
        "id": "LGee57Io5m7b",
        "colab_type": "text"
      },
      "source": [
        "The `fileids` method provided by all the datasets in `nltk.corpus` gives access to a list of all the files available.\n",
        "\n",
        "In particular in the movie_reviews dataset we have 2000 text files, each of them is a review of a movie, and they are already split in a `neg` folder for the negative reviews and a `pos` folder for the positive reviews:"
      ]
    },
    {
      "cell_type": "code",
      "metadata": {
        "id": "L8msKE_G5m7c",
        "colab_type": "code",
        "colab": {
          "base_uri": "https://localhost:8080/",
          "height": 34
        },
        "outputId": "3705fefc-8b48-4717-bcbc-e8f66f9d0942"
      },
      "source": [
        "len(movie_reviews.fileids())"
      ],
      "execution_count": 5,
      "outputs": [
        {
          "output_type": "execute_result",
          "data": {
            "text/plain": [
              "2000"
            ]
          },
          "metadata": {
            "tags": []
          },
          "execution_count": 5
        }
      ]
    },
    {
      "cell_type": "code",
      "metadata": {
        "id": "K9fNYgxM5m7j",
        "colab_type": "code",
        "colab": {
          "base_uri": "https://localhost:8080/",
          "height": 102
        },
        "outputId": "d9bc7704-35ca-45b3-9445-edafdf100055"
      },
      "source": [
        "movie_reviews.fileids()[:5]"
      ],
      "execution_count": 6,
      "outputs": [
        {
          "output_type": "execute_result",
          "data": {
            "text/plain": [
              "['neg/cv000_29416.txt',\n",
              " 'neg/cv001_19502.txt',\n",
              " 'neg/cv002_17424.txt',\n",
              " 'neg/cv003_12683.txt',\n",
              " 'neg/cv004_12641.txt']"
            ]
          },
          "metadata": {
            "tags": []
          },
          "execution_count": 6
        }
      ]
    },
    {
      "cell_type": "code",
      "metadata": {
        "id": "NIeM9sjy5m7y",
        "colab_type": "code",
        "colab": {}
      },
      "source": [
        "#filtering between postive and negetive review\n",
        "negative_fileids = movie_reviews.fileids('neg')\n",
        "positive_fileids = movie_reviews.fileids('pos')"
      ],
      "execution_count": 10,
      "outputs": []
    },
    {
      "cell_type": "code",
      "metadata": {
        "id": "RYrT2EOw5m74",
        "colab_type": "code",
        "colab": {
          "base_uri": "https://localhost:8080/",
          "height": 34
        },
        "outputId": "ba684474-55a2-4d59-e97b-ea465b912fa3"
      },
      "source": [
        "len(negative_fileids), len(positive_fileids)"
      ],
      "execution_count": 11,
      "outputs": [
        {
          "output_type": "execute_result",
          "data": {
            "text/plain": [
              "(1000, 1000)"
            ]
          },
          "metadata": {
            "tags": []
          },
          "execution_count": 11
        }
      ]
    },
    {
      "cell_type": "code",
      "metadata": {
        "id": "Csjqtnqn5m7-",
        "colab_type": "code",
        "colab": {
          "base_uri": "https://localhost:8080/",
          "height": 479
        },
        "outputId": "0a27a3d4-cc56-4f5a-963c-9aeb2fde05f9"
      },
      "source": [
        "#Inspecting the first postive review\n",
        "print(movie_reviews.raw(fileids=positive_fileids[0]))"
      ],
      "execution_count": 13,
      "outputs": [
        {
          "output_type": "stream",
          "text": [
            "films adapted from comic books have had plenty of success , whether they're about superheroes ( batman , superman , spawn ) , or geared toward kids ( casper ) or the arthouse crowd ( ghost world ) , but there's never really been a comic book like from hell before . \n",
            "for starters , it was created by alan moore ( and eddie campbell ) , who brought the medium to a whole new level in the mid '80s with a 12-part series called the watchmen . \n",
            "to say moore and campbell thoroughly researched the subject of jack the ripper would be like saying michael jackson is starting to look a little odd . \n",
            "the book ( or \" graphic novel , \" if you will ) is over 500 pages long and includes nearly 30 more that consist of nothing but footnotes . \n",
            "in other words , don't dismiss this film because of its source . \n",
            "if you can get past the whole comic book thing , you might find another stumbling block in from hell's directors , albert and allen hughes . \n",
            "getting the hughes brothers to direct this seems almost as ludicrous as casting carrot top in , well , anything , but riddle me this : who better to direct a film that's set in the ghetto and features really violent street crime than the mad geniuses behind menace ii society ? \n",
            "the ghetto in question is , of course , whitechapel in 1888 london's east end . \n",
            "it's a filthy , sooty place where the whores ( called \" unfortunates \" ) are starting to get a little nervous about this mysterious psychopath who has been carving through their profession with surgical precision . \n",
            "when the first stiff turns up , copper peter godley ( robbie coltrane , the world is not enough ) calls in inspector frederick abberline ( johnny depp , blow ) to crack the case . \n",
            "abberline , a widower , has prophetic dreams he unsuccessfully tries to quell with copious amounts of absinthe and opium . \n",
            "upon arriving in whitechapel , he befriends an unfortunate named mary kelly ( heather graham , say it isn't so ) and proceeds to investigate the horribly gruesome crimes that even the police surgeon can't stomach . \n",
            "i don't think anyone needs to be briefed on jack the ripper , so i won't go into the particulars here , other than to say moore and campbell have a unique and interesting theory about both the identity of the killer and the reasons he chooses to slay . \n",
            "in the comic , they don't bother cloaking the identity of the ripper , but screenwriters terry hayes ( vertical limit ) and rafael yglesias ( les mis ? rables ) do a good job of keeping him hidden from viewers until the very end . \n",
            "it's funny to watch the locals blindly point the finger of blame at jews and indians because , after all , an englishman could never be capable of committing such ghastly acts . \n",
            "and from hell's ending had me whistling the stonecutters song from the simpsons for days ( \" who holds back the electric car/who made steve guttenberg a star ? \" ) . \n",
            "don't worry - it'll all make sense when you see it . \n",
            "now onto from hell's appearance : it's certainly dark and bleak enough , and it's surprising to see how much more it looks like a tim burton film than planet of the apes did ( at times , it seems like sleepy hollow 2 ) . \n",
            "the print i saw wasn't completely finished ( both color and music had not been finalized , so no comments about marilyn manson ) , but cinematographer peter deming ( don't say a word ) ably captures the dreariness of victorian-era london and helped make the flashy killing scenes remind me of the crazy flashbacks in twin peaks , even though the violence in the film pales in comparison to that in the black-and-white comic . \n",
            "oscar winner martin childs' ( shakespeare in love ) production design turns the original prague surroundings into one creepy place . \n",
            "even the acting in from hell is solid , with the dreamy depp turning in a typically strong performance and deftly handling a british accent . \n",
            "ians holm ( joe gould's secret ) and richardson ( 102 dalmatians ) log in great supporting roles , but the big surprise here is graham . \n",
            "i cringed the first time she opened her mouth , imagining her attempt at an irish accent , but it actually wasn't half bad . \n",
            "the film , however , is all good . \n",
            "2 : 00 - r for strong violence/gore , sexuality , language and drug content \n",
            "\n"
          ],
          "name": "stdout"
        }
      ]
    },
    {
      "cell_type": "markdown",
      "metadata": {
        "id": "SloHFR9s5m8D",
        "colab_type": "text"
      },
      "source": [
        "## Tokenize Text in Words"
      ]
    },
    {
      "cell_type": "code",
      "metadata": {
        "id": "O3KWbI5_5m8F",
        "colab_type": "code",
        "colab": {}
      },
      "source": [
        "romeo_text = \"\"\"Why then, O brawling love! O loving hate!\n",
        "O any thing, of nothing first create!\n",
        "O heavy lightness, serious vanity,\n",
        "Misshapen chaos of well-seeming forms,\n",
        "Feather of lead, bright smoke, cold fire, sick health,\n",
        "Still-waking sleep, that is not what it is!\n",
        "This love feel I, that feel no love in this.\"\"\""
      ],
      "execution_count": 14,
      "outputs": []
    },
    {
      "cell_type": "code",
      "metadata": {
        "id": "F9bib8wy5m8L",
        "colab_type": "code",
        "colab": {
          "base_uri": "https://localhost:8080/",
          "height": 901
        },
        "outputId": "1d1ccb39-0879-47f8-8ad4-e0f8313dcdc7"
      },
      "source": [
        "romeo_text.split()"
      ],
      "execution_count": 15,
      "outputs": [
        {
          "output_type": "execute_result",
          "data": {
            "text/plain": [
              "['Why',\n",
              " 'then,',\n",
              " 'O',\n",
              " 'brawling',\n",
              " 'love!',\n",
              " 'O',\n",
              " 'loving',\n",
              " 'hate!',\n",
              " 'O',\n",
              " 'any',\n",
              " 'thing,',\n",
              " 'of',\n",
              " 'nothing',\n",
              " 'first',\n",
              " 'create!',\n",
              " 'O',\n",
              " 'heavy',\n",
              " 'lightness,',\n",
              " 'serious',\n",
              " 'vanity,',\n",
              " 'Misshapen',\n",
              " 'chaos',\n",
              " 'of',\n",
              " 'well-seeming',\n",
              " 'forms,',\n",
              " 'Feather',\n",
              " 'of',\n",
              " 'lead,',\n",
              " 'bright',\n",
              " 'smoke,',\n",
              " 'cold',\n",
              " 'fire,',\n",
              " 'sick',\n",
              " 'health,',\n",
              " 'Still-waking',\n",
              " 'sleep,',\n",
              " 'that',\n",
              " 'is',\n",
              " 'not',\n",
              " 'what',\n",
              " 'it',\n",
              " 'is!',\n",
              " 'This',\n",
              " 'love',\n",
              " 'feel',\n",
              " 'I,',\n",
              " 'that',\n",
              " 'feel',\n",
              " 'no',\n",
              " 'love',\n",
              " 'in',\n",
              " 'this.']"
            ]
          },
          "metadata": {
            "tags": []
          },
          "execution_count": 15
        }
      ]
    },
    {
      "cell_type": "code",
      "metadata": {
        "id": "VUf_ZaA35m8R",
        "colab_type": "code",
        "colab": {
          "base_uri": "https://localhost:8080/",
          "height": 68
        },
        "outputId": "75660044-ed4a-4f6d-bb15-ef77b5c09aa6"
      },
      "source": [
        "nltk.download(\"punkt\")"
      ],
      "execution_count": 16,
      "outputs": [
        {
          "output_type": "stream",
          "text": [
            "[nltk_data] Downloading package punkt to /root/nltk_data...\n",
            "[nltk_data]   Unzipping tokenizers/punkt.zip.\n"
          ],
          "name": "stdout"
        },
        {
          "output_type": "execute_result",
          "data": {
            "text/plain": [
              "True"
            ]
          },
          "metadata": {
            "tags": []
          },
          "execution_count": 16
        }
      ]
    },
    {
      "cell_type": "code",
      "metadata": {
        "id": "bdpoYcR_5m8Y",
        "colab_type": "code",
        "colab": {}
      },
      "source": [
        "#splitting the text\n",
        "romeo_words = nltk.word_tokenize(romeo_text)"
      ],
      "execution_count": 17,
      "outputs": []
    },
    {
      "cell_type": "code",
      "metadata": {
        "id": "r3coVa9O5m8f",
        "colab_type": "code",
        "colab": {
          "base_uri": "https://localhost:8080/",
          "height": 1000
        },
        "outputId": "ef1a4215-6a24-4842-f7f5-0a6b9893559c"
      },
      "source": [
        "romeo_words"
      ],
      "execution_count": 18,
      "outputs": [
        {
          "output_type": "execute_result",
          "data": {
            "text/plain": [
              "['Why',\n",
              " 'then',\n",
              " ',',\n",
              " 'O',\n",
              " 'brawling',\n",
              " 'love',\n",
              " '!',\n",
              " 'O',\n",
              " 'loving',\n",
              " 'hate',\n",
              " '!',\n",
              " 'O',\n",
              " 'any',\n",
              " 'thing',\n",
              " ',',\n",
              " 'of',\n",
              " 'nothing',\n",
              " 'first',\n",
              " 'create',\n",
              " '!',\n",
              " 'O',\n",
              " 'heavy',\n",
              " 'lightness',\n",
              " ',',\n",
              " 'serious',\n",
              " 'vanity',\n",
              " ',',\n",
              " 'Misshapen',\n",
              " 'chaos',\n",
              " 'of',\n",
              " 'well-seeming',\n",
              " 'forms',\n",
              " ',',\n",
              " 'Feather',\n",
              " 'of',\n",
              " 'lead',\n",
              " ',',\n",
              " 'bright',\n",
              " 'smoke',\n",
              " ',',\n",
              " 'cold',\n",
              " 'fire',\n",
              " ',',\n",
              " 'sick',\n",
              " 'health',\n",
              " ',',\n",
              " 'Still-waking',\n",
              " 'sleep',\n",
              " ',',\n",
              " 'that',\n",
              " 'is',\n",
              " 'not',\n",
              " 'what',\n",
              " 'it',\n",
              " 'is',\n",
              " '!',\n",
              " 'This',\n",
              " 'love',\n",
              " 'feel',\n",
              " 'I',\n",
              " ',',\n",
              " 'that',\n",
              " 'feel',\n",
              " 'no',\n",
              " 'love',\n",
              " 'in',\n",
              " 'this',\n",
              " '.']"
            ]
          },
          "metadata": {
            "tags": []
          },
          "execution_count": 18
        }
      ]
    },
    {
      "cell_type": "code",
      "metadata": {
        "id": "BWhyIwZv5m8l",
        "colab_type": "code",
        "colab": {
          "base_uri": "https://localhost:8080/",
          "height": 357
        },
        "outputId": "c8de6a14-53af-4390-aca2-adbe301b50b0"
      },
      "source": [
        "#tokenizing the first movie review\n",
        "movie_reviews.words(fileids=positive_fileids[0])[:20]"
      ],
      "execution_count": 22,
      "outputs": [
        {
          "output_type": "execute_result",
          "data": {
            "text/plain": [
              "['films',\n",
              " 'adapted',\n",
              " 'from',\n",
              " 'comic',\n",
              " 'books',\n",
              " 'have',\n",
              " 'had',\n",
              " 'plenty',\n",
              " 'of',\n",
              " 'success',\n",
              " ',',\n",
              " 'whether',\n",
              " 'they',\n",
              " \"'\",\n",
              " 're',\n",
              " 'about',\n",
              " 'superheroes',\n",
              " '(',\n",
              " 'batman',\n",
              " ',']"
            ]
          },
          "metadata": {
            "tags": []
          },
          "execution_count": 22
        }
      ]
    },
    {
      "cell_type": "markdown",
      "metadata": {
        "id": "JaCIZaVw5m8r",
        "colab_type": "text"
      },
      "source": [
        "## Building a bag-of-words model"
      ]
    },
    {
      "cell_type": "code",
      "metadata": {
        "id": "-2WDKDDB5m8s",
        "colab_type": "code",
        "colab": {
          "base_uri": "https://localhost:8080/",
          "height": 782
        },
        "outputId": "9814539f-263d-4972-aeab-1d583bcd498e"
      },
      "source": [
        "{word:True for word in romeo_words}"
      ],
      "execution_count": 23,
      "outputs": [
        {
          "output_type": "execute_result",
          "data": {
            "text/plain": [
              "{'!': True,\n",
              " ',': True,\n",
              " '.': True,\n",
              " 'Feather': True,\n",
              " 'I': True,\n",
              " 'Misshapen': True,\n",
              " 'O': True,\n",
              " 'Still-waking': True,\n",
              " 'This': True,\n",
              " 'Why': True,\n",
              " 'any': True,\n",
              " 'brawling': True,\n",
              " 'bright': True,\n",
              " 'chaos': True,\n",
              " 'cold': True,\n",
              " 'create': True,\n",
              " 'feel': True,\n",
              " 'fire': True,\n",
              " 'first': True,\n",
              " 'forms': True,\n",
              " 'hate': True,\n",
              " 'health': True,\n",
              " 'heavy': True,\n",
              " 'in': True,\n",
              " 'is': True,\n",
              " 'it': True,\n",
              " 'lead': True,\n",
              " 'lightness': True,\n",
              " 'love': True,\n",
              " 'loving': True,\n",
              " 'no': True,\n",
              " 'not': True,\n",
              " 'nothing': True,\n",
              " 'of': True,\n",
              " 'serious': True,\n",
              " 'sick': True,\n",
              " 'sleep': True,\n",
              " 'smoke': True,\n",
              " 'that': True,\n",
              " 'then': True,\n",
              " 'thing': True,\n",
              " 'this': True,\n",
              " 'vanity': True,\n",
              " 'well-seeming': True,\n",
              " 'what': True}"
            ]
          },
          "metadata": {
            "tags": []
          },
          "execution_count": 23
        }
      ]
    },
    {
      "cell_type": "code",
      "metadata": {
        "id": "Z_nOCttz5m8y",
        "colab_type": "code",
        "colab": {
          "base_uri": "https://localhost:8080/",
          "height": 34
        },
        "outputId": "e4e2f16d-b2a7-47ff-beb7-f649d9e83ba9"
      },
      "source": [
        "type(_)"
      ],
      "execution_count": 24,
      "outputs": [
        {
          "output_type": "execute_result",
          "data": {
            "text/plain": [
              "dict"
            ]
          },
          "metadata": {
            "tags": []
          },
          "execution_count": 24
        }
      ]
    },
    {
      "cell_type": "code",
      "metadata": {
        "id": "yuzWY4yY5m84",
        "colab_type": "code",
        "colab": {}
      },
      "source": [
        "#creating a function to return the words in dictionary\n",
        "def build_bag_of_words_features(words):\n",
        "    return {word:True for word in words}"
      ],
      "execution_count": 25,
      "outputs": []
    },
    {
      "cell_type": "code",
      "metadata": {
        "id": "TxqFcBY15m89",
        "colab_type": "code",
        "colab": {
          "base_uri": "https://localhost:8080/",
          "height": 782
        },
        "outputId": "23e34ecd-f7b0-4707-f3c4-8676ab5316f7"
      },
      "source": [
        "build_bag_of_words_features(romeo_words)"
      ],
      "execution_count": 26,
      "outputs": [
        {
          "output_type": "execute_result",
          "data": {
            "text/plain": [
              "{'!': True,\n",
              " ',': True,\n",
              " '.': True,\n",
              " 'Feather': True,\n",
              " 'I': True,\n",
              " 'Misshapen': True,\n",
              " 'O': True,\n",
              " 'Still-waking': True,\n",
              " 'This': True,\n",
              " 'Why': True,\n",
              " 'any': True,\n",
              " 'brawling': True,\n",
              " 'bright': True,\n",
              " 'chaos': True,\n",
              " 'cold': True,\n",
              " 'create': True,\n",
              " 'feel': True,\n",
              " 'fire': True,\n",
              " 'first': True,\n",
              " 'forms': True,\n",
              " 'hate': True,\n",
              " 'health': True,\n",
              " 'heavy': True,\n",
              " 'in': True,\n",
              " 'is': True,\n",
              " 'it': True,\n",
              " 'lead': True,\n",
              " 'lightness': True,\n",
              " 'love': True,\n",
              " 'loving': True,\n",
              " 'no': True,\n",
              " 'not': True,\n",
              " 'nothing': True,\n",
              " 'of': True,\n",
              " 'serious': True,\n",
              " 'sick': True,\n",
              " 'sleep': True,\n",
              " 'smoke': True,\n",
              " 'that': True,\n",
              " 'then': True,\n",
              " 'thing': True,\n",
              " 'this': True,\n",
              " 'vanity': True,\n",
              " 'well-seeming': True,\n",
              " 'what': True}"
            ]
          },
          "metadata": {
            "tags": []
          },
          "execution_count": 26
        }
      ]
    },
    {
      "cell_type": "code",
      "metadata": {
        "id": "-YpDdiiv5m9D",
        "colab_type": "code",
        "colab": {
          "base_uri": "https://localhost:8080/",
          "height": 68
        },
        "outputId": "3f14d15f-7d79-48a3-f99a-d5e68b24efe9"
      },
      "source": [
        "nltk.download(\"stopwords\")"
      ],
      "execution_count": 27,
      "outputs": [
        {
          "output_type": "stream",
          "text": [
            "[nltk_data] Downloading package stopwords to /root/nltk_data...\n",
            "[nltk_data]   Unzipping corpora/stopwords.zip.\n"
          ],
          "name": "stdout"
        },
        {
          "output_type": "execute_result",
          "data": {
            "text/plain": [
              "True"
            ]
          },
          "metadata": {
            "tags": []
          },
          "execution_count": 27
        }
      ]
    },
    {
      "cell_type": "code",
      "metadata": {
        "id": "CugluMnf5m9H",
        "colab_type": "code",
        "colab": {}
      },
      "source": [
        "import string"
      ],
      "execution_count": 28,
      "outputs": []
    },
    {
      "cell_type": "code",
      "metadata": {
        "id": "MHimtAGh5m9T",
        "colab_type": "code",
        "colab": {
          "base_uri": "https://localhost:8080/",
          "height": 35
        },
        "outputId": "64594c1a-2f54-47f1-b271-cee67b8376c1"
      },
      "source": [
        "string.punctuation"
      ],
      "execution_count": 29,
      "outputs": [
        {
          "output_type": "execute_result",
          "data": {
            "application/vnd.google.colaboratory.intrinsic+json": {
              "type": "string"
            },
            "text/plain": [
              "'!\"#$%&\\'()*+,-./:;<=>?@[\\\\]^_`{|}~'"
            ]
          },
          "metadata": {
            "tags": []
          },
          "execution_count": 29
        }
      ]
    },
    {
      "cell_type": "markdown",
      "metadata": {
        "id": "mqjA47JO5m9Z",
        "colab_type": "text"
      },
      "source": [
        ""
      ]
    },
    {
      "cell_type": "code",
      "metadata": {
        "id": "MlFOAt-j5m9e",
        "colab_type": "code",
        "colab": {
          "base_uri": "https://localhost:8080/",
          "height": 34
        },
        "outputId": "a42bc11f-771b-4ebf-b082-4701886af436"
      },
      "source": [
        "#removing the stopwords\n",
        "useless_words = nltk.corpus.stopwords.words(\"english\") + list(string.punctuation)\n",
        "useless_words\n",
        "type(useless_words)"
      ],
      "execution_count": 31,
      "outputs": [
        {
          "output_type": "execute_result",
          "data": {
            "text/plain": [
              "list"
            ]
          },
          "metadata": {
            "tags": []
          },
          "execution_count": 31
        }
      ]
    },
    {
      "cell_type": "code",
      "metadata": {
        "id": "0MO4vjor5m9l",
        "colab_type": "code",
        "colab": {}
      },
      "source": [
        "def build_bag_of_words_features_filtered(words):\n",
        "    return {\n",
        "        word:True for word in words \\\n",
        "        if not word in useless_words}"
      ],
      "execution_count": 33,
      "outputs": []
    },
    {
      "cell_type": "code",
      "metadata": {
        "id": "MMqrMSxk5m9q",
        "colab_type": "code",
        "colab": {
          "base_uri": "https://localhost:8080/",
          "height": 544
        },
        "outputId": "8ad0f950-e677-471b-8453-e4c60c0fe985"
      },
      "source": [
        "build_bag_of_words_features_filtered(romeo_words)"
      ],
      "execution_count": 34,
      "outputs": [
        {
          "output_type": "execute_result",
          "data": {
            "text/plain": [
              "{'Feather': True,\n",
              " 'I': True,\n",
              " 'Misshapen': True,\n",
              " 'O': True,\n",
              " 'Still-waking': True,\n",
              " 'This': True,\n",
              " 'Why': True,\n",
              " 'brawling': True,\n",
              " 'bright': True,\n",
              " 'chaos': True,\n",
              " 'cold': True,\n",
              " 'create': True,\n",
              " 'feel': True,\n",
              " 'fire': True,\n",
              " 'first': True,\n",
              " 'forms': True,\n",
              " 'hate': True,\n",
              " 'health': True,\n",
              " 'heavy': True,\n",
              " 'lead': True,\n",
              " 'lightness': True,\n",
              " 'love': True,\n",
              " 'loving': True,\n",
              " 'nothing': True,\n",
              " 'serious': True,\n",
              " 'sick': True,\n",
              " 'sleep': True,\n",
              " 'smoke': True,\n",
              " 'thing': True,\n",
              " 'vanity': True,\n",
              " 'well-seeming': True}"
            ]
          },
          "metadata": {
            "tags": []
          },
          "execution_count": 34
        }
      ]
    },
    {
      "cell_type": "markdown",
      "metadata": {
        "id": "vEAMIjDd5m9u",
        "colab_type": "text"
      },
      "source": [
        "## Plotting Frequencies of Words\n",
        "\n",
        "It is common to explore a dataset before starting the analysis, in this section we will find the most common words and plot their frequency.\n",
        "\n",
        "Using the `.words()` function with no argument we can extract the words from the entire dataset and check that it is about 1.6 millions."
      ]
    },
    {
      "cell_type": "code",
      "metadata": {
        "id": "S2LAvM3j5m9v",
        "colab_type": "code",
        "colab": {
          "base_uri": "https://localhost:8080/",
          "height": 34
        },
        "outputId": "6f0d2807-71e2-4f6e-a8f9-e01b194c3b4a"
      },
      "source": [
        "# words in millions\n",
        "all_words = movie_reviews.words()\n",
        "len(all_words)/1e6"
      ],
      "execution_count": 35,
      "outputs": [
        {
          "output_type": "execute_result",
          "data": {
            "text/plain": [
              "1.58382"
            ]
          },
          "metadata": {
            "tags": []
          },
          "execution_count": 35
        }
      ]
    },
    {
      "cell_type": "code",
      "metadata": {
        "id": "3puygm8X5m90",
        "colab_type": "code",
        "colab": {
          "base_uri": "https://localhost:8080/",
          "height": 34
        },
        "outputId": "f9204d3b-f267-408a-ed4d-7e3058b82692"
      },
      "source": [
        "filtered_words = [word for word in movie_reviews.words() if not word in useless_words]\n",
        "type(filtered_words)"
      ],
      "execution_count": 36,
      "outputs": [
        {
          "output_type": "execute_result",
          "data": {
            "text/plain": [
              "list"
            ]
          },
          "metadata": {
            "tags": []
          },
          "execution_count": 36
        }
      ]
    },
    {
      "cell_type": "code",
      "metadata": {
        "id": "j8iMBMoH5m95",
        "colab_type": "code",
        "colab": {
          "base_uri": "https://localhost:8080/",
          "height": 34
        },
        "outputId": "6918653d-7e2e-4be6-f6fd-6b83e1b96de2"
      },
      "source": [
        "len(filtered_words)/1e6"
      ],
      "execution_count": 37,
      "outputs": [
        {
          "output_type": "execute_result",
          "data": {
            "text/plain": [
              "0.710579"
            ]
          },
          "metadata": {
            "tags": []
          },
          "execution_count": 37
        }
      ]
    },
    {
      "cell_type": "code",
      "metadata": {
        "id": "KYzLYHKn5m9-",
        "colab_type": "code",
        "colab": {
          "base_uri": "https://localhost:8080/",
          "height": 1000
        },
        "outputId": "2ad8026d-832a-4b99-9355-88a5bee8cdf9"
      },
      "source": [
        "from collections import Counter\n",
        "\n",
        "#counting frequencies of words in our list\n",
        "word_counter = Counter(filtered_words)\n",
        "word_counter"
      ],
      "execution_count": 39,
      "outputs": [
        {
          "output_type": "execute_result",
          "data": {
            "text/plain": [
              "Counter({'plot': 1513,\n",
              "         'two': 1911,\n",
              "         'teen': 151,\n",
              "         'couples': 27,\n",
              "         'go': 1113,\n",
              "         'church': 69,\n",
              "         'party': 183,\n",
              "         'drink': 32,\n",
              "         'drive': 105,\n",
              "         'get': 1949,\n",
              "         'accident': 104,\n",
              "         'one': 5852,\n",
              "         'guys': 268,\n",
              "         'dies': 104,\n",
              "         'girlfriend': 218,\n",
              "         'continues': 88,\n",
              "         'see': 1749,\n",
              "         'life': 1586,\n",
              "         'nightmares': 26,\n",
              "         'deal': 219,\n",
              "         'watch': 603,\n",
              "         'movie': 5771,\n",
              "         'sorta': 10,\n",
              "         'find': 782,\n",
              "         'critique': 61,\n",
              "         'mind': 451,\n",
              "         'fuck': 17,\n",
              "         'generation': 96,\n",
              "         'touches': 55,\n",
              "         'cool': 208,\n",
              "         'idea': 386,\n",
              "         'presents': 78,\n",
              "         'bad': 1395,\n",
              "         'package': 30,\n",
              "         'makes': 992,\n",
              "         'review': 295,\n",
              "         'even': 2565,\n",
              "         'harder': 33,\n",
              "         'write': 119,\n",
              "         'since': 768,\n",
              "         'generally': 103,\n",
              "         'applaud': 10,\n",
              "         'films': 1536,\n",
              "         'attempt': 263,\n",
              "         'break': 175,\n",
              "         'mold': 14,\n",
              "         'mess': 159,\n",
              "         'head': 387,\n",
              "         'lost': 409,\n",
              "         'highway': 28,\n",
              "         'memento': 10,\n",
              "         'good': 2411,\n",
              "         'ways': 189,\n",
              "         'making': 602,\n",
              "         'types': 48,\n",
              "         'folks': 74,\n",
              "         'snag': 2,\n",
              "         'correctly': 17,\n",
              "         'seem': 574,\n",
              "         'taken': 225,\n",
              "         'pretty': 528,\n",
              "         'neat': 32,\n",
              "         'concept': 114,\n",
              "         'executed': 46,\n",
              "         'terribly': 58,\n",
              "         'problems': 293,\n",
              "         'well': 1906,\n",
              "         'main': 399,\n",
              "         'problem': 396,\n",
              "         'simply': 428,\n",
              "         'jumbled': 12,\n",
              "         'starts': 316,\n",
              "         'normal': 111,\n",
              "         'downshifts': 2,\n",
              "         'fantasy': 97,\n",
              "         'world': 1037,\n",
              "         'audience': 914,\n",
              "         'member': 126,\n",
              "         'going': 888,\n",
              "         'dreams': 131,\n",
              "         'characters': 1859,\n",
              "         'coming': 275,\n",
              "         'back': 1060,\n",
              "         'dead': 418,\n",
              "         'others': 288,\n",
              "         'look': 835,\n",
              "         'like': 3690,\n",
              "         'strange': 185,\n",
              "         'apparitions': 5,\n",
              "         'disappearances': 3,\n",
              "         'looooot': 1,\n",
              "         'chase': 159,\n",
              "         'scenes': 1274,\n",
              "         'tons': 21,\n",
              "         'weird': 100,\n",
              "         'things': 852,\n",
              "         'happen': 220,\n",
              "         'explained': 70,\n",
              "         'personally': 44,\n",
              "         'trying': 566,\n",
              "         'unravel': 9,\n",
              "         'film': 9517,\n",
              "         'every': 947,\n",
              "         'give': 561,\n",
              "         'clue': 45,\n",
              "         'kind': 559,\n",
              "         'fed': 29,\n",
              "         'biggest': 149,\n",
              "         'obviously': 228,\n",
              "         'got': 470,\n",
              "         'big': 1064,\n",
              "         'secret': 184,\n",
              "         'hide': 40,\n",
              "         'seems': 1033,\n",
              "         'want': 560,\n",
              "         'completely': 440,\n",
              "         'final': 380,\n",
              "         'five': 284,\n",
              "         'minutes': 644,\n",
              "         'make': 1642,\n",
              "         'entertaining': 314,\n",
              "         'thrilling': 46,\n",
              "         'engaging': 79,\n",
              "         'meantime': 19,\n",
              "         'really': 1558,\n",
              "         'sad': 108,\n",
              "         'part': 714,\n",
              "         'arrow': 29,\n",
              "         'dig': 19,\n",
              "         'flicks': 81,\n",
              "         'actually': 837,\n",
              "         'figured': 29,\n",
              "         'half': 535,\n",
              "         'way': 1693,\n",
              "         'point': 685,\n",
              "         'strangeness': 6,\n",
              "         'start': 312,\n",
              "         'little': 1501,\n",
              "         'bit': 568,\n",
              "         'sense': 555,\n",
              "         'still': 1047,\n",
              "         'guess': 226,\n",
              "         'bottom': 93,\n",
              "         'line': 435,\n",
              "         'movies': 1206,\n",
              "         'always': 586,\n",
              "         'sure': 523,\n",
              "         'given': 502,\n",
              "         'password': 4,\n",
              "         'enter': 68,\n",
              "         'understanding': 57,\n",
              "         'mean': 242,\n",
              "         'showing': 147,\n",
              "         'melissa': 12,\n",
              "         'sagemiller': 8,\n",
              "         'running': 323,\n",
              "         'away': 655,\n",
              "         'visions': 31,\n",
              "         '20': 98,\n",
              "         'throughout': 302,\n",
              "         'plain': 82,\n",
              "         'lazy': 34,\n",
              "         'okay': 125,\n",
              "         'people': 1455,\n",
              "         'chasing': 43,\n",
              "         'know': 1217,\n",
              "         'need': 316,\n",
              "         'giving': 214,\n",
              "         'us': 1073,\n",
              "         'different': 430,\n",
              "         'offering': 38,\n",
              "         'insight': 54,\n",
              "         'apparently': 209,\n",
              "         'studio': 163,\n",
              "         'took': 164,\n",
              "         'director': 1237,\n",
              "         'chopped': 5,\n",
              "         'shows': 410,\n",
              "         'might': 635,\n",
              "         'decent': 164,\n",
              "         'somewhere': 127,\n",
              "         'suits': 45,\n",
              "         'decided': 104,\n",
              "         'turning': 80,\n",
              "         'music': 480,\n",
              "         'video': 322,\n",
              "         'edge': 104,\n",
              "         'would': 2109,\n",
              "         'actors': 706,\n",
              "         'although': 795,\n",
              "         'wes': 50,\n",
              "         'bentley': 9,\n",
              "         'seemed': 212,\n",
              "         'playing': 362,\n",
              "         'exact': 64,\n",
              "         'character': 2020,\n",
              "         'american': 559,\n",
              "         'beauty': 135,\n",
              "         'new': 1292,\n",
              "         'neighborhood': 21,\n",
              "         'kudos': 21,\n",
              "         'holds': 90,\n",
              "         'entire': 408,\n",
              "         'feeling': 225,\n",
              "         'unraveling': 2,\n",
              "         'overall': 160,\n",
              "         'stick': 69,\n",
              "         'entertain': 53,\n",
              "         'confusing': 94,\n",
              "         'rarely': 102,\n",
              "         'excites': 2,\n",
              "         'feels': 216,\n",
              "         'redundant': 14,\n",
              "         'runtime': 8,\n",
              "         'despite': 352,\n",
              "         'ending': 423,\n",
              "         'explanation': 69,\n",
              "         'craziness': 4,\n",
              "         'came': 185,\n",
              "         'oh': 216,\n",
              "         'horror': 473,\n",
              "         'slasher': 84,\n",
              "         'flick': 196,\n",
              "         'packaged': 3,\n",
              "         'someone': 401,\n",
              "         'assuming': 15,\n",
              "         'genre': 268,\n",
              "         'hot': 127,\n",
              "         'kids': 328,\n",
              "         'also': 1967,\n",
              "         'wrapped': 39,\n",
              "         'production': 300,\n",
              "         'years': 846,\n",
              "         'ago': 199,\n",
              "         'sitting': 93,\n",
              "         'shelves': 13,\n",
              "         'ever': 776,\n",
              "         'whatever': 136,\n",
              "         'skip': 45,\n",
              "         'joblo': 30,\n",
              "         'nightmare': 60,\n",
              "         'elm': 14,\n",
              "         'street': 140,\n",
              "         '3': 222,\n",
              "         '7': 115,\n",
              "         '10': 449,\n",
              "         'blair': 98,\n",
              "         'witch': 108,\n",
              "         '2': 439,\n",
              "         'crow': 55,\n",
              "         '9': 75,\n",
              "         'salvation': 14,\n",
              "         '4': 190,\n",
              "         'stir': 27,\n",
              "         'echoes': 31,\n",
              "         '8': 140,\n",
              "         'happy': 215,\n",
              "         'bastard': 46,\n",
              "         'quick': 139,\n",
              "         'damn': 88,\n",
              "         'y2k': 4,\n",
              "         'bug': 81,\n",
              "         'starring': 184,\n",
              "         'jamie': 42,\n",
              "         'lee': 266,\n",
              "         'curtis': 37,\n",
              "         'another': 1121,\n",
              "         'baldwin': 89,\n",
              "         'brother': 268,\n",
              "         'william': 206,\n",
              "         'time': 2411,\n",
              "         'story': 2169,\n",
              "         'regarding': 31,\n",
              "         'crew': 214,\n",
              "         'tugboat': 2,\n",
              "         'comes': 733,\n",
              "         'across': 221,\n",
              "         'deserted': 21,\n",
              "         'russian': 68,\n",
              "         'tech': 29,\n",
              "         'ship': 264,\n",
              "         'kick': 52,\n",
              "         'power': 238,\n",
              "         'within': 227,\n",
              "         'gore': 110,\n",
              "         'bringing': 81,\n",
              "         'action': 1172,\n",
              "         'sequences': 293,\n",
              "         'virus': 77,\n",
              "         'empty': 67,\n",
              "         'flash': 62,\n",
              "         'substance': 73,\n",
              "         'middle': 222,\n",
              "         'nowhere': 98,\n",
              "         'origin': 8,\n",
              "         'pink': 24,\n",
              "         'flashy': 41,\n",
              "         'thing': 809,\n",
              "         'hit': 285,\n",
              "         'mir': 7,\n",
              "         'course': 648,\n",
              "         'donald': 38,\n",
              "         'sutherland': 39,\n",
              "         'stumbling': 15,\n",
              "         'around': 903,\n",
              "         'drunkenly': 2,\n",
              "         'hey': 70,\n",
              "         'let': 425,\n",
              "         'robots': 27,\n",
              "         'acting': 695,\n",
              "         'average': 119,\n",
              "         'likes': 99,\n",
              "         'likely': 164,\n",
              "         'work': 1020,\n",
              "         'halloween': 60,\n",
              "         'h20': 7,\n",
              "         'wasted': 118,\n",
              "         'real': 915,\n",
              "         'star': 761,\n",
              "         'stan': 12,\n",
              "         'winston': 4,\n",
              "         'robot': 45,\n",
              "         'design': 87,\n",
              "         'schnazzy': 1,\n",
              "         'cgi': 50,\n",
              "         'occasional': 62,\n",
              "         'shot': 348,\n",
              "         'picking': 28,\n",
              "         'brain': 93,\n",
              "         'body': 269,\n",
              "         'parts': 207,\n",
              "         'turn': 363,\n",
              "         'otherwise': 156,\n",
              "         'much': 2049,\n",
              "         'sunken': 4,\n",
              "         'jaded': 12,\n",
              "         'viewer': 218,\n",
              "         'thankful': 7,\n",
              "         'invention': 11,\n",
              "         'timex': 1,\n",
              "         'indiglo': 1,\n",
              "         'based': 389,\n",
              "         'late': 238,\n",
              "         '1960': 22,\n",
              "         'television': 220,\n",
              "         'show': 741,\n",
              "         'name': 392,\n",
              "         'mod': 17,\n",
              "         'squad': 40,\n",
              "         'tells': 255,\n",
              "         'tale': 216,\n",
              "         'three': 695,\n",
              "         'reformed': 7,\n",
              "         'criminals': 35,\n",
              "         'employ': 16,\n",
              "         'police': 241,\n",
              "         'undercover': 28,\n",
              "         'however': 989,\n",
              "         'wrong': 385,\n",
              "         'evidence': 66,\n",
              "         'gets': 865,\n",
              "         'stolen': 58,\n",
              "         'immediately': 163,\n",
              "         'suspicion': 19,\n",
              "         'ads': 33,\n",
              "         'cuts': 60,\n",
              "         'claire': 70,\n",
              "         'dane': 5,\n",
              "         'nice': 344,\n",
              "         'hair': 109,\n",
              "         'cute': 134,\n",
              "         'outfits': 21,\n",
              "         'car': 321,\n",
              "         'chases': 50,\n",
              "         'stuff': 208,\n",
              "         'blowing': 26,\n",
              "         'sounds': 133,\n",
              "         'first': 1836,\n",
              "         'fifteen': 64,\n",
              "         'quickly': 255,\n",
              "         'becomes': 526,\n",
              "         'apparent': 100,\n",
              "         'certainly': 361,\n",
              "         'slick': 39,\n",
              "         'looking': 501,\n",
              "         'complete': 197,\n",
              "         'costumes': 71,\n",
              "         'enough': 910,\n",
              "         'best': 1333,\n",
              "         'described': 57,\n",
              "         'cross': 111,\n",
              "         'hour': 355,\n",
              "         'long': 836,\n",
              "         'cop': 208,\n",
              "         'stretched': 19,\n",
              "         'span': 19,\n",
              "         'single': 239,\n",
              "         'clich': 72,\n",
              "         'matter': 321,\n",
              "         'elements': 236,\n",
              "         'recycled': 24,\n",
              "         'everything': 530,\n",
              "         'already': 289,\n",
              "         'seen': 910,\n",
              "         'nothing': 804,\n",
              "         'spectacular': 83,\n",
              "         'sometimes': 277,\n",
              "         'bordering': 6,\n",
              "         'wooden': 48,\n",
              "         'danes': 26,\n",
              "         'omar': 12,\n",
              "         'epps': 16,\n",
              "         'deliver': 92,\n",
              "         'lines': 320,\n",
              "         'bored': 83,\n",
              "         'transfers': 3,\n",
              "         'onto': 119,\n",
              "         'escape': 158,\n",
              "         'relatively': 66,\n",
              "         'unscathed': 8,\n",
              "         'giovanni': 14,\n",
              "         'ribisi': 24,\n",
              "         'plays': 752,\n",
              "         'resident': 8,\n",
              "         'crazy': 99,\n",
              "         'man': 1396,\n",
              "         'ultimately': 158,\n",
              "         'worth': 319,\n",
              "         'watching': 493,\n",
              "         'unfortunately': 382,\n",
              "         'save': 273,\n",
              "         'convoluted': 31,\n",
              "         'apart': 118,\n",
              "         'occupying': 5,\n",
              "         'screen': 705,\n",
              "         'young': 743,\n",
              "         'cast': 769,\n",
              "         'clothes': 51,\n",
              "         'hip': 69,\n",
              "         'soundtrack': 148,\n",
              "         'appears': 243,\n",
              "         'geared': 14,\n",
              "         'towards': 182,\n",
              "         'teenage': 103,\n",
              "         'mindset': 10,\n",
              "         'r': 180,\n",
              "         'rating': 151,\n",
              "         'content': 77,\n",
              "         'justify': 23,\n",
              "         'juvenile': 22,\n",
              "         'older': 103,\n",
              "         'information': 100,\n",
              "         'literally': 106,\n",
              "         'spoon': 22,\n",
              "         'hard': 587,\n",
              "         'instead': 565,\n",
              "         'telling': 133,\n",
              "         'dialogue': 519,\n",
              "         'poorly': 94,\n",
              "         'written': 409,\n",
              "         'extremely': 248,\n",
              "         'predictable': 182,\n",
              "         'progresses': 47,\n",
              "         'care': 304,\n",
              "         'heroes': 101,\n",
              "         'jeopardy': 28,\n",
              "         'basing': 4,\n",
              "         'nobody': 88,\n",
              "         'remembers': 9,\n",
              "         'questionable': 20,\n",
              "         'wisdom': 35,\n",
              "         'especially': 456,\n",
              "         'considers': 19,\n",
              "         'target': 94,\n",
              "         'fact': 805,\n",
              "         'number': 222,\n",
              "         'memorable': 147,\n",
              "         'counted': 13,\n",
              "         'hand': 378,\n",
              "         'missing': 116,\n",
              "         'finger': 25,\n",
              "         'times': 568,\n",
              "         'checked': 7,\n",
              "         'six': 147,\n",
              "         'clear': 184,\n",
              "         'indication': 11,\n",
              "         'cash': 92,\n",
              "         'spending': 46,\n",
              "         'dollar': 55,\n",
              "         'judging': 34,\n",
              "         'rash': 7,\n",
              "         'awful': 132,\n",
              "         'seeing': 339,\n",
              "         'avoid': 91,\n",
              "         'costs': 25,\n",
              "         'quest': 69,\n",
              "         'camelot': 11,\n",
              "         'warner': 48,\n",
              "         'bros': 24,\n",
              "         'feature': 230,\n",
              "         'length': 98,\n",
              "         'fully': 102,\n",
              "         'animated': 179,\n",
              "         'steal': 70,\n",
              "         'clout': 9,\n",
              "         'disney': 290,\n",
              "         'cartoon': 88,\n",
              "         'empire': 41,\n",
              "         'mouse': 51,\n",
              "         'reason': 437,\n",
              "         'worried': 29,\n",
              "         'recent': 211,\n",
              "         'challenger': 2,\n",
              "         'throne': 18,\n",
              "         'last': 843,\n",
              "         'fall': 239,\n",
              "         'promising': 54,\n",
              "         'flawed': 49,\n",
              "         '20th': 28,\n",
              "         'century': 121,\n",
              "         'fox': 111,\n",
              "         'anastasia': 22,\n",
              "         'hercules': 16,\n",
              "         'lively': 32,\n",
              "         'colorful': 51,\n",
              "         'palate': 4,\n",
              "         'beat': 71,\n",
              "         'hands': 148,\n",
              "         'crown': 15,\n",
              "         '1997': 112,\n",
              "         'piece': 244,\n",
              "         'animation': 142,\n",
              "         'year': 886,\n",
              "         'contest': 24,\n",
              "         'arrival': 37,\n",
              "         'magic': 92,\n",
              "         'kingdom': 19,\n",
              "         'mediocre': 74,\n",
              "         '--': 1815,\n",
              "         'pocahontas': 11,\n",
              "         'keeping': 88,\n",
              "         'score': 212,\n",
              "         'nearly': 307,\n",
              "         'dull': 134,\n",
              "         'revolves': 52,\n",
              "         'adventures': 53,\n",
              "         'free': 159,\n",
              "         'spirited': 43,\n",
              "         'kayley': 4,\n",
              "         'voiced': 57,\n",
              "         'jessalyn': 1,\n",
              "         'gilsig': 1,\n",
              "         'early': 303,\n",
              "         'daughter': 317,\n",
              "         'belated': 2,\n",
              "         'knight': 37,\n",
              "         'king': 256,\n",
              "         'arthur': 45,\n",
              "         'round': 49,\n",
              "         'table': 53,\n",
              "         'dream': 164,\n",
              "         'follow': 185,\n",
              "         'father': 492,\n",
              "         'footsteps': 17,\n",
              "         'chance': 223,\n",
              "         'evil': 429,\n",
              "         'warlord': 3,\n",
              "         'ruber': 1,\n",
              "         'gary': 77,\n",
              "         'oldman': 33,\n",
              "         'ex': 165,\n",
              "         'gone': 195,\n",
              "         'steals': 59,\n",
              "         'magical': 51,\n",
              "         'sword': 44,\n",
              "         'excalibur': 3,\n",
              "         'accidentally': 57,\n",
              "         'loses': 85,\n",
              "         'dangerous': 81,\n",
              "         'booby': 4,\n",
              "         'trapped': 52,\n",
              "         'forest': 45,\n",
              "         'help': 537,\n",
              "         'hunky': 12,\n",
              "         'blind': 44,\n",
              "         'timberland': 2,\n",
              "         'dweller': 2,\n",
              "         'garrett': 9,\n",
              "         'carey': 13,\n",
              "         'elwes': 6,\n",
              "         'headed': 75,\n",
              "         'dragon': 56,\n",
              "         'eric': 64,\n",
              "         'idle': 23,\n",
              "         'rickles': 4,\n",
              "         'arguing': 17,\n",
              "         'able': 339,\n",
              "         'medieval': 17,\n",
              "         'sexist': 14,\n",
              "         'prove': 102,\n",
              "         'fighter': 32,\n",
              "         'side': 341,\n",
              "         'pure': 90,\n",
              "         'showmanship': 4,\n",
              "         'essential': 34,\n",
              "         'element': 150,\n",
              "         'expected': 138,\n",
              "         'climb': 16,\n",
              "         'high': 624,\n",
              "         'ranks': 24,\n",
              "         'differentiates': 2,\n",
              "         'something': 1061,\n",
              "         'saturday': 53,\n",
              "         'morning': 66,\n",
              "         'subpar': 3,\n",
              "         'instantly': 41,\n",
              "         'forgettable': 30,\n",
              "         'songs': 119,\n",
              "         'integrated': 7,\n",
              "         'computerized': 4,\n",
              "         'footage': 104,\n",
              "         'compare': 41,\n",
              "         'run': 354,\n",
              "         'angry': 89,\n",
              "         'ogre': 20,\n",
              "         'herc': 2,\n",
              "         'battle': 230,\n",
              "         'hydra': 2,\n",
              "         'rest': 431,\n",
              "         'case': 420,\n",
              "         'stink': 5,\n",
              "         'none': 242,\n",
              "         'remotely': 50,\n",
              "         'interesting': 638,\n",
              "         'race': 127,\n",
              "         'bland': 84,\n",
              "         'end': 1062,\n",
              "         'tie': 34,\n",
              "         'win': 112,\n",
              "         'comedy': 840,\n",
              "         'shtick': 14,\n",
              "         'awfully': 27,\n",
              "         'cloying': 5,\n",
              "         'least': 676,\n",
              "         'signs': 53,\n",
              "         'pulse': 23,\n",
              "         'fans': 245,\n",
              "         \"-'\": 3,\n",
              "         '90s': 41,\n",
              "         'tgif': 2,\n",
              "         'thrilled': 15,\n",
              "         'jaleel': 1,\n",
              "         'urkel': 2,\n",
              "         'white': 314,\n",
              "         'bronson': 20,\n",
              "         'balki': 1,\n",
              "         'pinchot': 2,\n",
              "         'sharing': 14,\n",
              "         'nicely': 98,\n",
              "         'realized': 88,\n",
              "         'though': 940,\n",
              "         'loss': 54,\n",
              "         'recall': 52,\n",
              "         'specific': 36,\n",
              "         'providing': 46,\n",
              "         'voice': 275,\n",
              "         'talent': 223,\n",
              "         'enthusiastic': 18,\n",
              "         'paired': 9,\n",
              "         'singers': 10,\n",
              "         'sound': 245,\n",
              "         'musical': 154,\n",
              "         'moments': 447,\n",
              "         'jane': 83,\n",
              "         'seymour': 8,\n",
              "         'celine': 10,\n",
              "         'dion': 2,\n",
              "         'must': 618,\n",
              "         'strain': 14,\n",
              "         'aside': 118,\n",
              "         'children': 336,\n",
              "         'probably': 539,\n",
              "         'adults': 85,\n",
              "         'grievous': 3,\n",
              "         'error': 15,\n",
              "         'lack': 237,\n",
              "         'personality': 116,\n",
              "         'learn': 172,\n",
              "         'goes': 646,\n",
              "         'synopsis': 67,\n",
              "         'mentally': 37,\n",
              "         'unstable': 15,\n",
              "         'undergoing': 3,\n",
              "         'psychotherapy': 2,\n",
              "         'saves': 43,\n",
              "         'boy': 362,\n",
              "         'potentially': 39,\n",
              "         'fatal': 39,\n",
              "         'falls': 239,\n",
              "         'love': 1119,\n",
              "         'mother': 437,\n",
              "         'fledgling': 7,\n",
              "         'restauranteur': 2,\n",
              "         'unsuccessfully': 9,\n",
              "         'attempting': 55,\n",
              "         'gain': 42,\n",
              "         'woman': 554,\n",
              "         'favor': 47,\n",
              "         'takes': 674,\n",
              "         'pictures': 117,\n",
              "         'kills': 78,\n",
              "         'comments': 53,\n",
              "         'stalked': 23,\n",
              "         'yet': 608,\n",
              "         'seemingly': 124,\n",
              "         'endless': 57,\n",
              "         'string': 39,\n",
              "         'spurned': 4,\n",
              "         'psychos': 4,\n",
              "         'getting': 406,\n",
              "         'revenge': 100,\n",
              "         'type': 214,\n",
              "         'stable': 15,\n",
              "         'category': 40,\n",
              "         '1990s': 23,\n",
              "         'industry': 87,\n",
              "         'theatrical': 61,\n",
              "         'direct': 77,\n",
              "         'proliferation': 3,\n",
              "         'may': 857,\n",
              "         'due': 196,\n",
              "         'typically': 28,\n",
              "         'inexpensive': 3,\n",
              "         'produce': 44,\n",
              "         'special': 574,\n",
              "         'effects': 649,\n",
              "         'stars': 399,\n",
              "         'serve': 79,\n",
              "         'vehicles': 25,\n",
              "         'nudity': 73,\n",
              "         'allowing': 42,\n",
              "         'frequent': 35,\n",
              "         'night': 435,\n",
              "         'cable': 49,\n",
              "         'wavers': 1,\n",
              "         'slightly': 151,\n",
              "         'norm': 26,\n",
              "         'respect': 92,\n",
              "         'psycho': 61,\n",
              "         'never': 1374,\n",
              "         'affair': 96,\n",
              "         'contrary': 27,\n",
              "         'rejected': 19,\n",
              "         'rather': 621,\n",
              "         'lover': 94,\n",
              "         'wife': 588,\n",
              "         'husband': 260,\n",
              "         'entry': 45,\n",
              "         'doomed': 29,\n",
              "         'collect': 19,\n",
              "         'dust': 21,\n",
              "         'viewed': 45,\n",
              "         'midnight': 50,\n",
              "         'provide': 126,\n",
              "         'suspense': 202,\n",
              "         'sets': 241,\n",
              "         'interspersed': 5,\n",
              "         'opening': 306,\n",
              "         'credits': 203,\n",
              "         'instance': 75,\n",
              "         'serious': 216,\n",
              "         'sounding': 34,\n",
              "         'narrator': 37,\n",
              "         'spouts': 4,\n",
              "         'statistics': 1,\n",
              "         'stalkers': 2,\n",
              "         'ponders': 7,\n",
              "         'cause': 98,\n",
              "         'stalk': 4,\n",
              "         'implicitly': 3,\n",
              "         'implied': 9,\n",
              "         'men': 532,\n",
              "         'shown': 131,\n",
              "         'snapshot': 1,\n",
              "         'actor': 546,\n",
              "         'jay': 100,\n",
              "         'underwood': 11,\n",
              "         'states': 110,\n",
              "         'daryl': 24,\n",
              "         'gleason': 2,\n",
              "         'stalker': 10,\n",
              "         'brooke': 13,\n",
              "         'daniels': 27,\n",
              "         'meant': 91,\n",
              "         'called': 391,\n",
              "         'guesswork': 1,\n",
              "         'required': 53,\n",
              "         'proceeds': 29,\n",
              "         'begins': 392,\n",
              "         'obvious': 292,\n",
              "         'sequence': 366,\n",
              "         'contrived': 77,\n",
              "         'quite': 660,\n",
              "         'brings': 202,\n",
              "         'victim': 113,\n",
              "         'together': 522,\n",
              "         'obsesses': 4,\n",
              "         'follows': 170,\n",
              "         'tries': 370,\n",
              "         'woo': 94,\n",
              "         'plans': 90,\n",
              "         'become': 511,\n",
              "         'desperate': 101,\n",
              "         'elaborate': 63,\n",
              "         'include': 110,\n",
              "         'cliche': 65,\n",
              "         'murdered': 55,\n",
              "         'pet': 40,\n",
              "         'require': 36,\n",
              "         'found': 398,\n",
              "         'exception': 102,\n",
              "         'cat': 59,\n",
              "         'shower': 31,\n",
              "         'events': 201,\n",
              "         'lead': 251,\n",
              "         'inevitable': 70,\n",
              "         'showdown': 37,\n",
              "         'survives': 20,\n",
              "         'invariably': 6,\n",
              "         'conclusion': 122,\n",
              "         'turkey': 40,\n",
              "         'uniformly': 15,\n",
              "         'adequate': 38,\n",
              "         'anything': 618,\n",
              "         'home': 550,\n",
              "         'either': 386,\n",
              "         'turns': 403,\n",
              "         'toward': 100,\n",
              "         'melodrama': 36,\n",
              "         'overdoes': 4,\n",
              "         'words': 215,\n",
              "         'manages': 248,\n",
              "         'creepy': 93,\n",
              "         'pass': 98,\n",
              "         'demands': 44,\n",
              "         'maryam': 1,\n",
              "         'abo': 3,\n",
              "         'close': 289,\n",
              "         'played': 791,\n",
              "         'bond': 155,\n",
              "         'chick': 33,\n",
              "         'living': 234,\n",
              "         'daylights': 1,\n",
              "         'equally': 110,\n",
              "         'title': 297,\n",
              "         'ditzy': 14,\n",
              "         'strong': 268,\n",
              "         'independent': 45,\n",
              "         'business': 193,\n",
              "         'owner': 99,\n",
              "         'needs': 221,\n",
              "         'proceed': 26,\n",
              "         'example': 300,\n",
              "         'suspicions': 5,\n",
              "         'ensure': 15,\n",
              "         'use': 398,\n",
              "         'excuse': 75,\n",
              "         'decides': 189,\n",
              "         'return': 195,\n",
              "         'toolbox': 2,\n",
              "         'left': 413,\n",
              "         'place': 615,\n",
              "         'house': 377,\n",
              "         'leave': 215,\n",
              "         'door': 112,\n",
              "         'answers': 58,\n",
              "         'opens': 175,\n",
              "         'wanders': 30,\n",
              "         'returns': 111,\n",
              "         'enters': 34,\n",
              "         'heroine': 56,\n",
              "         'danger': 62,\n",
              "         'somehow': 207,\n",
              "         'parked': 4,\n",
              "         'front': 135,\n",
              "         'right': 798,\n",
              "         'oblivious': 17,\n",
              "         'presence': 195,\n",
              "         'inside': 157,\n",
              "         'whole': 495,\n",
              "         'episode': 98,\n",
              "         'places': 99,\n",
              "         'incredible': 95,\n",
              "         'suspension': 19,\n",
              "         'disbelief': 48,\n",
              "         'questions': 178,\n",
              "         'validity': 2,\n",
              "         'intelligence': 125,\n",
              "         'receives': 32,\n",
              "         'highly': 136,\n",
              "         'derivative': 22,\n",
              "         'somewhat': 188,\n",
              "         'boring': 270,\n",
              "         'cannot': 147,\n",
              "         'watched': 81,\n",
              "         'rated': 146,\n",
              "         'mostly': 247,\n",
              "         'several': 419,\n",
              "         'murder': 250,\n",
              "         'brief': 140,\n",
              "         'strip': 48,\n",
              "         'bar': 74,\n",
              "         'offensive': 75,\n",
              "         'many': 1268,\n",
              "         'thrillers': 62,\n",
              "         'mood': 97,\n",
              "         'stake': 14,\n",
              "         'else': 387,\n",
              "         'capsule': 49,\n",
              "         '2176': 4,\n",
              "         'planet': 243,\n",
              "         'mars': 146,\n",
              "         'taking': 242,\n",
              "         'custody': 19,\n",
              "         'accused': 44,\n",
              "         'murderer': 42,\n",
              "         'face': 357,\n",
              "         'menace': 107,\n",
              "         'lot': 677,\n",
              "         'fighting': 101,\n",
              "         'john': 798,\n",
              "         'carpenter': 77,\n",
              "         'reprises': 12,\n",
              "         'ideas': 144,\n",
              "         'previous': 186,\n",
              "         'assault': 31,\n",
              "         'precinct': 8,\n",
              "         '13': 93,\n",
              "         'homage': 50,\n",
              "         '0': 55,\n",
              "         'believes': 80,\n",
              "         'fight': 323,\n",
              "         'horrible': 103,\n",
              "         'writer': 312,\n",
              "         'supposedly': 78,\n",
              "         'expert': 45,\n",
              "         'mistake': 69,\n",
              "         'ghosts': 45,\n",
              "         'drawn': 89,\n",
              "         'humans': 135,\n",
              "         'surprisingly': 191,\n",
              "         'low': 179,\n",
              "         'powered': 13,\n",
              "         'alien': 378,\n",
              "         'addition': 103,\n",
              "         'anybody': 44,\n",
              "         'made': 1084,\n",
              "         'grounds': 12,\n",
              "         'sue': 22,\n",
              "         'chock': 11,\n",
              "         'full': 375,\n",
              "         'pieces': 96,\n",
              "         'prince': 64,\n",
              "         'darkness': 51,\n",
              "         'surprising': 100,\n",
              "         'managed': 85,\n",
              "         'fit': 76,\n",
              "         'admittedly': 39,\n",
              "         'novel': 257,\n",
              "         'science': 235,\n",
              "         'fiction': 258,\n",
              "         'experience': 235,\n",
              "         'terraformed': 1,\n",
              "         'walk': 106,\n",
              "         'surface': 74,\n",
              "         'without': 697,\n",
              "         'breathing': 24,\n",
              "         'gear': 14,\n",
              "         'budget': 183,\n",
              "         'mentioned': 94,\n",
              "         'gravity': 20,\n",
              "         'increased': 7,\n",
              "         'earth': 317,\n",
              "         'easier': 39,\n",
              "         'society': 155,\n",
              "         'changed': 80,\n",
              "         'advanced': 26,\n",
              "         'culture': 104,\n",
              "         'women': 275,\n",
              "         'positions': 8,\n",
              "         'control': 145,\n",
              "         'view': 164,\n",
              "         'stagnated': 1,\n",
              "         'female': 143,\n",
              "         'beyond': 181,\n",
              "         'minor': 134,\n",
              "         'technological': 11,\n",
              "         'advances': 19,\n",
              "         'less': 475,\n",
              "         '175': 3,\n",
              "         ...})"
            ]
          },
          "metadata": {
            "tags": []
          },
          "execution_count": 39
        }
      ]
    },
    {
      "cell_type": "code",
      "metadata": {
        "id": "CShKFnGr5m-E",
        "colab_type": "code",
        "colab": {}
      },
      "source": [
        "most_common_words = word_counter.most_common()[:10]"
      ],
      "execution_count": 40,
      "outputs": []
    },
    {
      "cell_type": "code",
      "metadata": {
        "id": "ocgn-Dc-5m-J",
        "colab_type": "code",
        "colab": {
          "base_uri": "https://localhost:8080/",
          "height": 187
        },
        "outputId": "06c63064-21cd-498b-f759-4470bd4cd4e5"
      },
      "source": [
        "most_common_words"
      ],
      "execution_count": 41,
      "outputs": [
        {
          "output_type": "execute_result",
          "data": {
            "text/plain": [
              "[('film', 9517),\n",
              " ('one', 5852),\n",
              " ('movie', 5771),\n",
              " ('like', 3690),\n",
              " ('even', 2565),\n",
              " ('good', 2411),\n",
              " ('time', 2411),\n",
              " ('story', 2169),\n",
              " ('would', 2109),\n",
              " ('much', 2049)]"
            ]
          },
          "metadata": {
            "tags": []
          },
          "execution_count": 41
        }
      ]
    },
    {
      "cell_type": "code",
      "metadata": {
        "id": "fwR5Ph3Q5m-O",
        "colab_type": "code",
        "colab": {}
      },
      "source": [
        "%matplotlib inline\n",
        "import matplotlib.pyplot as plt"
      ],
      "execution_count": 42,
      "outputs": []
    },
    {
      "cell_type": "code",
      "metadata": {
        "id": "pr3775xO5m-T",
        "colab_type": "code",
        "colab": {
          "base_uri": "https://localhost:8080/",
          "height": 283
        },
        "outputId": "ff604458-87d2-48d3-d460-076eb6a682c2"
      },
      "source": [
        "sorted_word_counts = sorted(list(word_counter.values()), reverse=True)\n",
        "\n",
        "plt.loglog(sorted_word_counts)\n",
        "plt.ylabel(\"Freq\")\n",
        "plt.xlabel(\"Word Rank\");"
      ],
      "execution_count": 43,
      "outputs": [
        {
          "output_type": "display_data",
          "data": {
            "image/png": "[encoded data removed]",
            "text/plain": [
              "<Figure size 432x288 with 1 Axes>"
            ]
          },
          "metadata": {
            "tags": [],
            "needs_background": "light"
          }
        }
      ]
    },
    {
      "cell_type": "code",
      "metadata": {
        "id": "_qeNICsb5m-Y",
        "colab_type": "code",
        "colab": {
          "base_uri": "https://localhost:8080/",
          "height": 265
        },
        "outputId": "3e006f45-1198-43ff-e2e8-958e1a332334"
      },
      "source": [
        "plt.hist(sorted_word_counts, bins=50);"
      ],
      "execution_count": 44,
      "outputs": [
        {
          "output_type": "display_data",
          "data": {
            "image/png": "[encoded data removed]",
            "text/plain": [
              "<Figure size 432x288 with 1 Axes>"
            ]
          },
          "metadata": {
            "tags": [],
            "needs_background": "light"
          }
        }
      ]
    },
    {
      "cell_type": "code",
      "metadata": {
        "id": "hUrwXNqG5m-c",
        "colab_type": "code",
        "colab": {
          "base_uri": "https://localhost:8080/",
          "height": 265
        },
        "outputId": "0be34a1b-aafe-4656-bf24-578bcb4cd277"
      },
      "source": [
        "plt.hist(sorted_word_counts, bins=50, log=True);"
      ],
      "execution_count": 45,
      "outputs": [
        {
          "output_type": "display_data",
          "data": {
            "image/png": "[encoded data removed]",
            "text/plain": [
              "<Figure size 432x288 with 1 Axes>"
            ]
          },
          "metadata": {
            "tags": [],
            "needs_background": "light"
          }
        }
      ]
    },
    {
      "cell_type": "markdown",
      "metadata": {
        "id": "y2Tr-3P55m-g",
        "colab_type": "text"
      },
      "source": [
        "## Train a Classifier for Sentiment Analysis\n",
        "\n",
        "Using our `build_bag_of_words_features` function building separately the negative and positive features.\n",
        "Basically for each of the 1000 negative and for the 1000 positive review, creating one dictionary of the words and associating the label \"neg\" and \"pos\" to it."
      ]
    },
    {
      "cell_type": "code",
      "metadata": {
        "id": "Ewfudwjo5m-h",
        "colab_type": "code",
        "colab": {}
      },
      "source": [
        "negative_features = [\n",
        "    (build_bag_of_words_features_filtered(movie_reviews.words(fileids=[f])), 'neg') \\\n",
        "    for f in negative_fileids\n",
        "]"
      ],
      "execution_count": 46,
      "outputs": []
    },
    {
      "cell_type": "code",
      "metadata": {
        "id": "1fRgwxsb5m-r",
        "colab_type": "code",
        "colab": {
          "base_uri": "https://localhost:8080/",
          "height": 54
        },
        "outputId": "8d9ad575-d18c-4261-bff0-c0c911b326b5"
      },
      "source": [
        "print(negative_features[3])"
      ],
      "execution_count": 49,
      "outputs": [
        {
          "output_type": "stream",
          "text": [
            "({'quest': True, 'camelot': True, 'warner': True, 'bros': True, 'first': True, 'feature': True, 'length': True, 'fully': True, 'animated': True, 'attempt': True, 'steal': True, 'clout': True, 'disney': True, 'cartoon': True, 'empire': True, 'mouse': True, 'reason': True, 'worried': True, 'recent': True, 'challenger': True, 'throne': True, 'last': True, 'fall': True, 'promising': True, 'flawed': True, '20th': True, 'century': True, 'fox': True, 'production': True, 'anastasia': True, 'hercules': True, 'lively': True, 'cast': True, 'colorful': True, 'palate': True, 'beat': True, 'hands': True, 'came': True, 'time': True, 'crown': True, '1997': True, 'best': True, 'piece': True, 'animation': True, 'year': True, 'contest': True, 'pretty': True, 'much': True, 'dead': True, 'arrival': True, 'even': True, 'magic': True, 'kingdom': True, 'mediocre': True, '--': True, 'pocahontas': True, 'keeping': True, 'score': True, 'nearly': True, 'dull': True, 'story': True, 'revolves': True, 'around': True, 'adventures': True, 'free': True, 'spirited': True, 'kayley': True, 'voiced': True, 'jessalyn': True, 'gilsig': True, 'early': True, 'teen': True, 'daughter': True, 'belated': True, 'knight': True, 'king': True, 'arthur': True, 'round': True, 'table': True, 'dream': True, 'follow': True, 'father': True, 'footsteps': True, 'gets': True, 'chance': True, 'evil': True, 'warlord': True, 'ruber': True, 'gary': True, 'oldman': True, 'ex': True, 'member': True, 'gone': True, 'bad': True, 'steals': True, 'magical': True, 'sword': True, 'excalibur': True, 'accidentally': True, 'loses': True, 'dangerous': True, 'booby': True, 'trapped': True, 'forest': True, 'help': True, 'hunky': True, 'blind': True, 'timberland': True, 'dweller': True, 'garrett': True, 'carey': True, 'elwes': True, 'two': True, 'headed': True, 'dragon': True, 'eric': True, 'idle': True, 'rickles': True, 'always': True, 'arguing': True, 'might': True, 'able': True, 'break': True, 'medieval': True, 'sexist': True, 'mold': True, 'prove': True, 'worth': True, 'fighter': True, 'side': True, 'missing': True, 'pure': True, 'showmanship': True, 'essential': True, 'element': True, 'ever': True, 'expected': True, 'climb': True, 'high': True, 'ranks': True, 'nothing': True, 'differentiates': True, 'something': True, 'see': True, 'given': True, 'saturday': True, 'morning': True, 'subpar': True, 'instantly': True, 'forgettable': True, 'songs': True, 'poorly': True, 'integrated': True, 'computerized': True, 'footage': True, 'compare': True, 'run': True, 'angry': True, 'ogre': True, 'herc': True, 'battle': True, 'hydra': True, 'rest': True, 'case': True, 'characters': True, 'stink': True, 'none': True, 'remotely': True, 'interesting': True, 'film': True, 'becomes': True, 'race': True, 'one': True, 'bland': True, 'others': True, 'end': True, 'tie': True, 'win': True, 'comedy': True, 'shtick': True, 'awfully': True, 'cloying': True, 'least': True, 'shows': True, 'signs': True, 'pulse': True, 'fans': True, \"-'\": True, '90s': True, 'tgif': True, 'television': True, 'line': True, 'thrilled': True, 'find': True, 'jaleel': True, 'urkel': True, 'white': True, 'bronson': True, 'balki': True, 'pinchot': True, 'sharing': True, 'scenes': True, 'nicely': True, 'realized': True, 'though': True, 'loss': True, 'recall': True, 'enough': True, 'specific': True, 'actors': True, 'providing': True, 'voice': True, 'talent': True, 'enthusiastic': True, 'paired': True, 'singers': True, 'sound': True, 'thing': True, 'like': True, 'big': True, 'musical': True, 'moments': True, 'jane': True, 'seymour': True, 'celine': True, 'dion': True, 'must': True, 'strain': True, 'mess': True, 'good': True, 'aside': True, 'fact': True, 'children': True, 'probably': True, 'bored': True, 'watching': True, 'adults': True, 'grievous': True, 'error': True, 'complete': True, 'lack': True, 'personality': True, 'learn': True, 'goes': True, 'long': True, 'way': True}, 'neg')\n"
          ],
          "name": "stdout"
        }
      ]
    },
    {
      "cell_type": "code",
      "metadata": {
        "id": "cg9hmPH65m-w",
        "colab_type": "code",
        "colab": {}
      },
      "source": [
        "positive_features = [\n",
        "    (build_bag_of_words_features_filtered(movie_reviews.words(fileids=[f])), 'pos') \\\n",
        "    for f in positive_fileids\n",
        "]"
      ],
      "execution_count": 50,
      "outputs": []
    },
    {
      "cell_type": "code",
      "metadata": {
        "id": "5XmD5yhf5m-7",
        "colab_type": "code",
        "colab": {
          "base_uri": "https://localhost:8080/",
          "height": 54
        },
        "outputId": "363f9588-19de-483a-85f3-6cebf2d83522"
      },
      "source": [
        "print(positive_features[6])"
      ],
      "execution_count": 51,
      "outputs": [
        {
          "output_type": "stream",
          "text": [
            "({'apparently': True, 'director': True, 'tony': True, 'kaye': True, 'major': True, 'battle': True, 'new': True, 'line': True, 'regarding': True, 'film': True, 'american': True, 'history': True, 'x': True, 'know': True, 'details': True, 'fight': True, 'seems': True, 'happy': True, 'final': True, 'product': True, 'nearly': True, 'removed': True, 'name': True, 'credits': True, 'altogether': True, 'heard': True, 'kind': True, 'thing': True, 'happening': True, 'makes': True, 'wonder': True, 'much': True, 'input': True, 'studio': True, 'films': True, 'produce': True, 'found': True, 'extremely': True, 'good': True, 'focused': True, 'look': True, 'touchy': True, 'subject': True, 'racism': True, 'powerful': True, 'charismatic': True, 'performance': True, 'edward': True, 'norton': True, 'hard': True, 'believe': True, 'two': True, 'years': True, 'since': True, 'fantastic': True, 'role': True, 'primal': True, 'fear': True, 'starring': True, 'making': True, 'star': True, 'one': True, 'performers': True, 'becomes': True, 'character': True, 'work': True, 'best': True, 'performances': True, 'year': True, 'plays': True, 'young': True, 'man': True, 'named': True, 'derek': True, 'vinyard': True, 'skinhead': True, 'living': True, 'venice': True, 'beach': True, 'brother': True, 'danny': True, 'furlong': True, 'mother': True, 'beverly': True, 'angelo': True, 'sister': True, 'davin': True, 'jennifer': True, 'lien': True, 'opens': True, 'flashback': True, 'brutally': True, 'kills': True, 'black': True, 'men': True, 'vandalizing': True, 'car': True, 'find': True, 'lands': True, 'prison': True, 'point': True, 'seen': True, 'eyes': True, 'present': True, 'time': True, 'high': True, 'school': True, 'eager': True, 'follow': True, 'footsteps': True, 'told': True, 'see': True, 'path': True, 'leads': True, 'adoption': True, 'white': True, 'supremacy': True, 'released': True, 'served': True, 'three': True, 'finds': True, 'full': True, 'blown': True, 'however': True, 'given': True, 'violence': True, 'tries': True, 'get': True, 'understand': True, 'comes': True, 'bad': True, 'things': True, 'interesting': True, 'stupid': True, 'thoughtless': True, 'people': True, '--': True, 'intelligent': True, 'articulate': True, 'voice': True, 'beliefs': True, 'disturbingly': True, 'straightforward': True, 'terms': True, 'make': True, 'controversial': True, 'movie': True, 'preach': True, 'right': True, 'note': True, 'material': True, 'mainstream': True, 'redemption': True, 'phase': True, 'main': True, 'may': True, 'think': True, 'way': True, 'sympathetic': True, 'partially': True, 'disagree': True, 'although': True, 'advocate': True, 'presents': True, 'loud': True, 'obnoxious': True, 'also': True, 'smart': True, 'reasons': True, 'believable': True, 'father': True, 'arbitrarily': True, 'killed': True, 'group': True, 'clear': True, 'passionate': True, 'punk': True, 'looking': True, 'excuse': True, 'beat': True, 'course': True, 'helps': True, 'actor': True, 'talented': True, 'play': True, 'part': True, 'astonishing': True, 'frightening': True, 'looks': True, 'shaved': True, 'head': True, 'swastika': True, 'chest': True, 'addition': True, 'getting': True, 'perfect': True, 'requires': True, 'intelligence': True, 'depth': True, 'whole': True, 'lot': True, 'shouting': True, 'ease': True, 'even': True, 'meanest': True, 'likable': True, 'quality': True, 'gutsy': True, 'approach': True, 'telling': True, 'story': True, 'adds': True, 'subplot': True, 'principal': True, 'avery': True, 'brooks': True, 'obsessed': True, 'purging': True, 'hatred': True, 'terrific': True, 'standouts': True, 'visually': True, 'indulges': True, 'artistic': True, 'choices': True, 'nicely': True, 'lots': True, 'slow': True, 'motion': True, 'strange': True, 'camera': True, 'angles': True, 'add': True, 'moody': True, 'atmosphere': True, 'like': True, 'movies': True, 'lately': True, 'skims': True, 'past': True, 'greatness': True, 'last': True, 'minutes': True, 'climactic': True, 'scene': True, 'moving': True, 'picture': True, 'ends': True, 'pretentious': True, 'preachy': True, 'resolution': True, 'featuring': True, 'brief': True, 'narration': True, 'subtle': True, 'felt': True, 'slap': True, 'face': True, 'hand': True, 'fed': True, 'theme': True, 'simplistic': True, 'exactly': True, 'disliked': True, 'version': True, 'perhaps': True, 'problem': True, 'imagine': True, 'least': True, 'pleased': True, 'many': True, 'timid': True, 'weak': True, 'manages': True, 'compelling': True, 'argument': True, 'without': True, 'advocating': True}, 'pos')\n"
          ],
          "name": "stdout"
        }
      ]
    },
    {
      "cell_type": "code",
      "metadata": {
        "id": "sw2PLubJ5m_B",
        "colab_type": "code",
        "colab": {}
      },
      "source": [
        "from nltk.classify import NaiveBayesClassifier"
      ],
      "execution_count": 52,
      "outputs": []
    },
    {
      "cell_type": "markdown",
      "metadata": {
        "id": "O9_3dzGm5m_K",
        "colab_type": "text"
      },
      "source": [
        "Training on 80% of the data to learn what words are generally associated with positive or with negative reviews."
      ]
    },
    {
      "cell_type": "code",
      "metadata": {
        "id": "ntsj97N05m_L",
        "colab_type": "code",
        "colab": {}
      },
      "source": [
        "split = 800"
      ],
      "execution_count": 53,
      "outputs": []
    },
    {
      "cell_type": "code",
      "metadata": {
        "id": "mDgfAXO25m_P",
        "colab_type": "code",
        "colab": {}
      },
      "source": [
        "sentiment_classifier = NaiveBayesClassifier.train(positive_features[:split]+negative_features[:split])"
      ],
      "execution_count": 54,
      "outputs": []
    },
    {
      "cell_type": "code",
      "metadata": {
        "id": "JMTgRq_A5m_V",
        "colab_type": "code",
        "colab": {
          "base_uri": "https://localhost:8080/",
          "height": 34
        },
        "outputId": "3ed3bb9c-556a-4434-9cfb-5d112205c1de"
      },
      "source": [
        "nltk.classify.util.accuracy(sentiment_classifier, positive_features[:split]+negative_features[:split])*100"
      ],
      "execution_count": 55,
      "outputs": [
        {
          "output_type": "execute_result",
          "data": {
            "text/plain": [
              "98.0625"
            ]
          },
          "metadata": {
            "tags": []
          },
          "execution_count": 55
        }
      ]
    },
    {
      "cell_type": "markdown",
      "metadata": {
        "id": "iIv9JXxg5m_b",
        "colab_type": "text"
      },
      "source": [
        "Checking the accuracy for the remaining 20% of the data that wasn't used in training, the test data:"
      ]
    },
    {
      "cell_type": "code",
      "metadata": {
        "id": "bJDhIpHS5m_d",
        "colab_type": "code",
        "colab": {
          "base_uri": "https://localhost:8080/",
          "height": 34
        },
        "outputId": "4a243908-0fa1-469c-a042-5a349c9ce339"
      },
      "source": [
        "nltk.classify.util.accuracy(sentiment_classifier, positive_features[split:]+negative_features[split:])*100"
      ],
      "execution_count": 57,
      "outputs": [
        {
          "output_type": "execute_result",
          "data": {
            "text/plain": [
              "71.75"
            ]
          },
          "metadata": {
            "tags": []
          },
          "execution_count": 57
        }
      ]
    },
    {
      "cell_type": "code",
      "metadata": {
        "id": "eYHlA7ZC5m_l",
        "colab_type": "code",
        "colab": {
          "base_uri": "https://localhost:8080/",
          "height": 204
        },
        "outputId": "01c84cfd-2f58-437a-94cb-3c43aa9e2671"
      },
      "source": [
        "sentiment_classifier.show_most_informative_features()"
      ],
      "execution_count": 58,
      "outputs": [
        {
          "output_type": "stream",
          "text": [
            "Most Informative Features\n",
            "             outstanding = True              pos : neg    =     13.9 : 1.0\n",
            "               insulting = True              neg : pos    =     13.7 : 1.0\n",
            "              vulnerable = True              pos : neg    =     13.0 : 1.0\n",
            "               ludicrous = True              neg : pos    =     12.6 : 1.0\n",
            "             uninvolving = True              neg : pos    =     12.3 : 1.0\n",
            "              astounding = True              pos : neg    =     11.7 : 1.0\n",
            "                  avoids = True              pos : neg    =     11.7 : 1.0\n",
            "             fascination = True              pos : neg    =     11.0 : 1.0\n",
            "                  darker = True              pos : neg    =     10.3 : 1.0\n",
            "               animators = True              pos : neg    =     10.3 : 1.0\n"
          ],
          "name": "stdout"
        }
      ]
    },
    {
      "cell_type": "code",
      "metadata": {
        "id": "ft-WoGavFnol",
        "colab_type": "code",
        "colab": {}
      },
      "source": [
        ""
      ],
      "execution_count": null,
      "outputs": []
    }
  ]
}